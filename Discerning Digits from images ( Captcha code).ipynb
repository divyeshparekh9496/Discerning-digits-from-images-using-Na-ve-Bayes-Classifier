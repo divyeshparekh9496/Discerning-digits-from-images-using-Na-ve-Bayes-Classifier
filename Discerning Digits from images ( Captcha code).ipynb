{
 "cells": [
  {
   "cell_type": "code",
   "execution_count": 12,
   "id": "de3ba762",
   "metadata": {},
   "outputs": [],
   "source": [
    "# We are using MNIST dataset. So, it does not require the data preparation step.\n",
    "\n",
    "# Step 2: fetching the digital image of data\n",
    "\n",
    "from sklearn.datasets import load_digits      # Imports digits database\n",
    "import pylab as pl\n",
    "digits = load_digits()                          # Loads digits"
   ]
  },
  {
   "cell_type": "code",
   "execution_count": 13,
   "id": "731da906",
   "metadata": {},
   "outputs": [
    {
     "data": {
      "text/plain": [
       "<Figure size 432x288 with 0 Axes>"
      ]
     },
     "metadata": {},
     "output_type": "display_data"
    },
    {
     "data": {
      "image/png": "[encoded data removed]",
      "text/plain": [
       "<Figure size 288x288 with 1 Axes>"
      ]
     },
     "metadata": {
      "needs_background": "light"
     },
     "output_type": "display_data"
    },
    {
     "data": {
      "text/plain": [
       "array([[ 0.,  0.,  5., 13.,  9.,  1.,  0.,  0.],\n",
       "       [ 0.,  0., 13., 15., 10., 15.,  5.,  0.],\n",
       "       [ 0.,  3., 15.,  2.,  0., 11.,  8.,  0.],\n",
       "       [ 0.,  4., 12.,  0.,  0.,  8.,  8.,  0.],\n",
       "       [ 0.,  5.,  8.,  0.,  0.,  9.,  8.,  0.],\n",
       "       [ 0.,  4., 11.,  0.,  1., 12.,  7.,  0.],\n",
       "       [ 0.,  2., 14.,  5., 10., 12.,  0.,  0.],\n",
       "       [ 0.,  0.,  6., 13., 10.,  0.,  0.,  0.]])"
      ]
     },
     "execution_count": 13,
     "metadata": {},
     "output_type": "execute_result"
    }
   ],
   "source": [
    "# Working with images isn't much different from working with other data sets. In the case of a gray image, you put a value in every matrix entry that depicts the gray value to be shown.\n",
    "# Step 4: Using Scikit-learn\n",
    "\n",
    "pl.gray()                                    # Turns image into gray-scale values\n",
    "pl.matshow(digits.images[0])                 # Shows first images\n",
    "pl.show()\n",
    "digits.images[0]                             # Shows the corresponding matrix\n",
    "\n",
    "# We'll turn an image into something useable by the Naïve Bayes classifier by getting the grayscale value for its pixels and putting those values in a list."
   ]
  },
  {
   "cell_type": "code",
   "execution_count": 24,
   "id": "93a25056",
   "metadata": {},
   "outputs": [
    {
     "name": "stdout",
     "output_type": "stream",
     "text": [
      "[[ 0.  0.  5. ...  0.  0.  0.]\n",
      " [ 0.  0.  0. ... 10.  0.  0.]\n",
      " [ 0.  0.  0. ... 16.  9.  0.]\n",
      " ...\n",
      " [ 0.  0.  1. ...  6.  0.  0.]\n",
      " [ 0.  0.  2. ... 12.  0.  0.]\n",
      " [ 0.  0. 10. ... 12.  1.  0.]]\n"
     ]
    },
    {
     "data": {
      "text/plain": [
       "array([[37,  0,  0,  0,  0,  0,  0,  0,  0,  0],\n",
       "       [ 0, 39,  0,  0,  0,  0,  0,  0,  4,  0],\n",
       "       [ 0,  7, 20,  2,  0,  0,  0,  0, 15,  0],\n",
       "       [ 0,  0,  0, 39,  0,  0,  0,  1,  5,  0],\n",
       "       [ 0,  1,  0,  0, 31,  0,  0,  6,  0,  0],\n",
       "       [ 0,  1,  0,  1,  0, 43,  0,  3,  0,  0],\n",
       "       [ 0,  0,  1,  0,  0,  0, 51,  0,  0,  0],\n",
       "       [ 0,  0,  0,  0,  1,  0,  0, 47,  0,  0],\n",
       "       [ 0,  6,  0,  1,  0,  1,  0,  2, 38,  0],\n",
       "       [ 0,  2,  0,  4,  1,  0,  0,  3,  7, 30]])"
      ]
     },
     "execution_count": 24,
     "metadata": {},
     "output_type": "execute_result"
    }
   ],
   "source": [
    "# Image data classification problem on images of digits\n",
    "\n",
    "from sklearn.model_selection import train_test_split\n",
    "from sklearn.naive_bayes import GaussianNB\n",
    "from sklearn.metrics import confusion_matrix\n",
    "import pylab as plt\n",
    "\n",
    "# Step 1: Select target variable\n",
    "y = digits.target\n",
    "\n",
    "# Step2: Prepare data. Reshape adapts the matrix form. This method could, for instance, turn a 10x10 matrix into 100 vectors\n",
    "\n",
    "n_samples = len(digits.images)\n",
    "X= digits.images.reshape((n_samples, -1))\n",
    "\n",
    "print(X)\n",
    "\n",
    "# Step3: Split into test set and training set\n",
    "X_train, X_test, y_train, y_test = train_test_split(X, y, random_state=0)\n",
    "\n",
    "# Step4: Select a Naïve Bayes classifier ; use a Guassian distribution to estimate probability\n",
    "gnb = GaussianNB()\n",
    "\n",
    "# Step5: Fit data\n",
    "fit = gnb.fit(X_train, y_train)\n",
    "\n",
    "# Step6: Predict data for unseen data\n",
    "predicted = fit.predict(X_test)\n",
    "\n",
    "# Step7: Create confusion matrix\n",
    "confusion_matrix(y_test, predicted)"
   ]
  },
  {
   "cell_type": "code",
   "execution_count": 25,
   "id": "b31a3d7a",
   "metadata": {},
   "outputs": [
    {
     "data": {
      "image/png": "[encoded data removed]",
      "text/plain": [
       "<Figure size 432x288 with 6 Axes>"
      ]
     },
     "metadata": {
      "needs_background": "light"
     },
     "output_type": "display_data"
    }
   ],
   "source": [
    "# Let's assume we want to show off our results in a more easily understandable way or we want to inspect several of the images and the predictions our programs has made we can use the following code to display one next to other.\n",
    "# If we are satisfied with the rsults, the model training ends here and we arrive at step six: presenting the results.\n",
    "\n",
    "\n",
    "# Stores number image matrix and its prediction(as a number) together in a array.\n",
    "\n",
    "images_and_predictions = list(zip(digits.images, fit.predict(X)))\n",
    "\n",
    "# Loops through first 7 images\n",
    "for index, (image, prediction) in enumerate(images_and_predictions[:6]):\n",
    "    \n",
    "    # Adds an extra subplot on a 6X3 plot grid. This code could be simplified as: plt.subplot(3,2,index) but this looks visually more appealing\n",
    "    plt.subplot(6, 3, index +5)                \n",
    "    \n",
    "    # Doesn't show an axis\n",
    "    plt.axis('off')\n",
    "    \n",
    "    # Shows image in grayscale\n",
    "    plt.imshow(image, cmap= plt.cm.gray_r, interpolation= 'nearest')\n",
    "    \n",
    "    # Shows the predicted value as the title to the shown image\n",
    "    plt.title('Prediction: %i' % prediction)\n",
    "    \n",
    "# Shows the full plot that is now populated with 6 subplots\n",
    "plt.show()\n",
    "    \n",
    "    \n",
    "    \n",
    "# For each blurry image a number is predicted; only the number 2 is misinterpreted as 8. \n",
    "# Then an ambiguous number is predicted to be 3 but it could as well be 5; even to human eyes this isn't clear."
   ]
  }
 ],
 "metadata": {
  "kernelspec": {
   "display_name": "Python 3",
   "language": "python",
   "name": "python3"
  },
  "language_info": {
   "codemirror_mode": {
    "name": "ipython",
    "version": 3
   },
   "file_extension": ".py",
   "mimetype": "text/x-python",
   "name": "python",
   "nbconvert_exporter": "python",
   "pygments_lexer": "ipython3",
   "version": "3.8.8"
  }
 },
 "nbformat": 4,
 "nbformat_minor": 5
}
